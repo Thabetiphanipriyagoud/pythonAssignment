{
  "nbformat": 4,
  "nbformat_minor": 0,
  "metadata": {
    "colab": {
      "name": "assignment2.ipynb",
      "provenance": []
    },
    "kernelspec": {
      "name": "python3",
      "display_name": "Python 3"
    }
  },
  "cells": [
    {
      "cell_type": "code",
      "metadata": {
        "id": "CQsLEoRb9R7g",
        "colab_type": "code",
        "colab": {
          "base_uri": "https://localhost:8080/",
          "height": 51
        },
        "outputId": "826cc408-ff64-4a89-c660-0ddc5924b5e0"
      },
      "source": [
        "#1\n",
        "year=int(input(\"enter year\"))\n",
        "if year % 12==0 :\n",
        "  print(\"monkey\")\n",
        "elif year % 12==1 :\n",
        "  print(\"rooster\")\n",
        "elif year % 12 ==2:\n",
        "  print(\"dog\")\n",
        "elif year %12==3 : \n",
        "  print(\"pig\")\n",
        "elif year % 12==4 :\n",
        "  print(\"rat\")\n",
        "elif year % 12==5 :\n",
        "  print(\"ox\") \n",
        "elif year % 12==6 :\n",
        "  print(\" tiger \")\n",
        "elif year % 12==7 :\n",
        "  print(\"rabbit\")\n",
        "elif year % 12==8 :\n",
        "  print(\"dragon\")\n",
        "elif year % 12==9 :\n",
        "   print(\" snake \")\n",
        "elif year % 12==10 :\n",
        "  print(\"horse\") \n",
        "elif year%12==11 :\n",
        "  print(\"sheep\")"
      ],
      "execution_count": null,
      "outputs": [
        {
          "output_type": "stream",
          "text": [
            "enter year2020\n",
            "rat\n"
          ],
          "name": "stdout"
        }
      ]
    },
    {
      "cell_type": "code",
      "metadata": {
        "id": "BwElZfK_CSRi",
        "colab_type": "code",
        "colab": {
          "base_uri": "https://localhost:8080/",
          "height": 68
        },
        "outputId": "1eb4624b-a761-4fab-a1eb-190407342b45"
      },
      "source": [
        "#2\n",
        "d=int(input(\"enter distance :\"))\n",
        "w=int(input(\"enter weight:\"))\n",
        "if d < 500 :\n",
        "  if w < 100 :\n",
        "    c=5*d\n",
        "  elif w>=100 :\n",
        "    c=8*d\n",
        "elif d >=500 :\n",
        "  if w <10:\n",
        "    c=7*d\n",
        "  elif w>=10 and w<100 :\n",
        "    c=6*d\n",
        "  elif w>=100 :\n",
        "    c=5*d\n",
        "print(\"amount to be charged :\",c)    \n"
      ],
      "execution_count": null,
      "outputs": [
        {
          "output_type": "stream",
          "text": [
            "enter distance :520\n",
            "enter weight:50\n",
            "amountto be charged : 3120\n"
          ],
          "name": "stdout"
        }
      ]
    },
    {
      "cell_type": "code",
      "metadata": {
        "id": "-4PwzlmOOEMU",
        "colab_type": "code",
        "colab": {
          "base_uri": "https://localhost:8080/",
          "height": 170
        },
        "outputId": "10d925ea-04af-4a12-d191-98f1a7310074"
      },
      "source": [
        "#3\n",
        "print(\"types of seats:\\nstalls\\ncircle\\nupper class\\nbox\")\n",
        "seat=input(\"enter the type of seat\")\n",
        "if seat==\"stalls\":\n",
        "  a=625\n",
        "elif seat==\"circle\":\n",
        "  a=750\n",
        "elif seat==\"upper class\":\n",
        "  a=850\n",
        "elif seat==\"box\":\n",
        "  a=1000\n",
        "print(\"payment option cash,credit\")\n",
        "p=input(\"enter payment mode\")\n",
        "if p==\"cash\":\n",
        "  amount=a-a*0.1\n",
        "  print(amount)\n",
        "elif p==\"credit\":\n",
        "  amount=a-a*0.02\n",
        "  print(amount)"
      ],
      "execution_count": 31,
      "outputs": [
        {
          "output_type": "stream",
          "text": [
            "types of seats:\n",
            "stalls\n",
            "circle\n",
            "upper class\n",
            "box\n",
            "enter the type of seatbox\n",
            "payment option cash,credit\n",
            "enter payment modecash\n",
            "900.0\n"
          ],
          "name": "stdout"
        }
      ]
    },
    {
      "cell_type": "code",
      "metadata": {
        "id": "IO8aq-VpMeu2",
        "colab_type": "code",
        "colab": {
          "base_uri": "https://localhost:8080/",
          "height": 85
        },
        "outputId": "0a7f0b9d-d93b-48e4-8564-81ea3d106ede"
      },
      "source": [
        "#4\n",
        "i=int(input(\"enter intial temperature\"))\n",
        "f=int(input(\"enter final temperature\"))\n",
        "m=int(input(\"enter the amount of water in kilograms\"))\n",
        "q=m*(f-i)*4184\n",
        "print(q)"
      ],
      "execution_count": null,
      "outputs": [
        {
          "output_type": "stream",
          "text": [
            "enter intial temperature1\n",
            "enter final temperature2\n",
            "enter the amount of water in kilograms1\n",
            "4184\n"
          ],
          "name": "stdout"
        }
      ]
    },
    {
      "cell_type": "code",
      "metadata": {
        "id": "MAbsZyGtE-oe",
        "colab_type": "code",
        "colab": {
          "base_uri": "https://localhost:8080/",
          "height": 51
        },
        "outputId": "d79bb892-0cb2-45b3-84cd-dd6b82e4d05c"
      },
      "source": [
        "#5\n",
        "mnth=input(\"enter month\")\n",
        "if mnth =='december' or mnth=='january' or mnth=='february' :\n",
        "  print(\"winter\")\n",
        "elif mnth=='march' or mnth=='april' or mnth=='may' :\n",
        "  print(\"spring\")\n",
        "elif mnth=='june' or mnth=='july' or mnth=='august' :\n",
        "  print(\"summer\")\n",
        "else :\n",
        "  print(\"autumn\")"
      ],
      "execution_count": null,
      "outputs": [
        {
          "output_type": "stream",
          "text": [
            "enter monthdecember\n",
            "winter\n"
          ],
          "name": "stdout"
        }
      ]
    },
    {
      "cell_type": "code",
      "metadata": {
        "id": "v1oLi2Iwoiae",
        "colab_type": "code",
        "colab": {
          "base_uri": "https://localhost:8080/",
          "height": 54
        },
        "outputId": "f5dffaf8-2c61-4b04-c3a7-4e7062857365"
      },
      "source": [
        "#8\n",
        "for i in range(1,1000) :\n",
        " rev=0\n",
        " n=i \n",
        " while i>0:\n",
        "    m=i%10\n",
        "    rev=rev*10+m\n",
        "    i=i//10\n",
        " if n==rev :\n",
        "    print(n,end=\" \")"
      ],
      "execution_count": 19,
      "outputs": [
        {
          "output_type": "stream",
          "text": [
            "1 2 3 4 5 6 7 8 9 11 22 33 44 55 66 77 88 99 101 111 121 131 141 151 161 171 181 191 202 212 222 232 242 252 262 272 282 292 303 313 323 333 343 353 363 373 383 393 404 414 424 434 444 454 464 474 484 494 505 515 525 535 545 555 565 575 585 595 606 616 626 636 646 656 666 676 686 696 707 717 727 737 747 757 767 777 787 797 808 818 828 838 848 858 868 878 888 898 909 919 929 939 949 959 969 979 989 999 "
          ],
          "name": "stdout"
        }
      ]
    },
    {
      "cell_type": "code",
      "metadata": {
        "id": "qJKPK2wrOHcK",
        "colab_type": "code",
        "colab": {
          "base_uri": "https://localhost:8080/",
          "height": 71
        },
        "outputId": "27346593-afa0-4f2a-faff-b339b6f970a1"
      },
      "source": [
        "#7\n",
        "i=int(input(\"enter an integer between 100 to 1000\"))\n",
        "sum=0\n",
        "while i>0:\n",
        "    n=i%10\n",
        "    sum=sum+n\n",
        "    i=i//10\n",
        "print(sum)"
      ],
      "execution_count": null,
      "outputs": [
        {
          "output_type": "stream",
          "text": [
            "enter an integer between 100 to 1000400\n",
            "4\n"
          ],
          "name": "stdout"
        }
      ]
    },
    {
      "cell_type": "code",
      "metadata": {
        "id": "YZzKgZH6OI8G",
        "colab_type": "code",
        "colab": {
          "base_uri": "https://localhost:8080/",
          "height": 68
        },
        "outputId": "cf6d1072-cb18-4466-d474-4c503ff99b31"
      },
      "source": [
        "#6\n",
        "w=int(input(\"enter weight in pounds:\"))\n",
        "h=int(input(\"enter height in inches :\"))\n",
        "bmi=0.4535937*w/(0.0254*h)**2\n",
        "if bmi<18.5:\n",
        " print(\"under weight\")\n",
        "elif 18.5<=bmi<25.0 :\n",
        " print(\"normal\")\n",
        "elif 25.0<=bmi<30.0 :\n",
        " print(\"over weight\")\n",
        "else :\n",
        " print(\"obese\")"
      ],
      "execution_count": null,
      "outputs": [
        {
          "output_type": "stream",
          "text": [
            "enter weight in pounds:10\n",
            "enter height in inches :20\n",
            "under weight\n"
          ],
          "name": "stdout"
        }
      ]
    },
    {
      "cell_type": "code",
      "metadata": {
        "id": "-jUcNhObOKjd",
        "colab_type": "code",
        "colab": {
          "base_uri": "https://localhost:8080/",
          "height": 34
        },
        "outputId": "53ac0487-44c9-4c69-c6d6-4174bd32d45c"
      },
      "source": [
        "#9\n",
        "for i in range(1,1000) :\n",
        " sum=0\n",
        " m=i\n",
        " while i>0 :\n",
        "  n=i%10\n",
        "  sum=sum+n**3\n",
        "  i=i//10\n",
        " if m==sum :\n",
        "  print(m,end=\" \")"
      ],
      "execution_count": 32,
      "outputs": [
        {
          "output_type": "stream",
          "text": [
            "1 153 370 371 407 "
          ],
          "name": "stdout"
        }
      ]
    },
    {
      "cell_type": "code",
      "metadata": {
        "id": "p6WoJWpMOLzE",
        "colab_type": "code",
        "colab": {
          "base_uri": "https://localhost:8080/",
          "height": 1000
        },
        "outputId": "53a96d95-e69d-494c-a127-244eb868493a"
      },
      "source": [
        "#10\n",
        "for i in range(1,100) :\n",
        "  if(i%3==0 and i%5==0):\n",
        "    print(\"fizz buzz\")\n",
        "  elif(i%5==0):\n",
        "    print(\"buzz\")\n",
        "  elif(i%3==0):\n",
        "    print(\"fizz\")\n",
        "  else :\n",
        "    print(i)"
      ],
      "execution_count": null,
      "outputs": [
        {
          "output_type": "stream",
          "text": [
            "1\n",
            "2\n",
            "fizz\n",
            "4\n",
            "buzz\n",
            "fizz\n",
            "7\n",
            "8\n",
            "fizz\n",
            "buzz\n",
            "11\n",
            "fizz\n",
            "13\n",
            "14\n",
            "fizz buzz\n",
            "16\n",
            "17\n",
            "fizz\n",
            "19\n",
            "buzz\n",
            "fizz\n",
            "22\n",
            "23\n",
            "fizz\n",
            "buzz\n",
            "26\n",
            "fizz\n",
            "28\n",
            "29\n",
            "fizz buzz\n",
            "31\n",
            "32\n",
            "fizz\n",
            "34\n",
            "buzz\n",
            "fizz\n",
            "37\n",
            "38\n",
            "fizz\n",
            "buzz\n",
            "41\n",
            "fizz\n",
            "43\n",
            "44\n",
            "fizz buzz\n",
            "46\n",
            "47\n",
            "fizz\n",
            "49\n",
            "buzz\n",
            "fizz\n",
            "52\n",
            "53\n",
            "fizz\n",
            "buzz\n",
            "56\n",
            "fizz\n",
            "58\n",
            "59\n",
            "fizz buzz\n",
            "61\n",
            "62\n",
            "fizz\n",
            "64\n",
            "buzz\n",
            "fizz\n",
            "67\n",
            "68\n",
            "fizz\n",
            "buzz\n",
            "71\n",
            "fizz\n",
            "73\n",
            "74\n",
            "fizz buzz\n",
            "76\n",
            "77\n",
            "fizz\n",
            "79\n",
            "buzz\n",
            "fizz\n",
            "82\n",
            "83\n",
            "fizz\n",
            "buzz\n",
            "86\n",
            "fizz\n",
            "88\n",
            "89\n",
            "fizz buzz\n",
            "91\n",
            "92\n",
            "fizz\n",
            "94\n",
            "buzz\n",
            "fizz\n",
            "97\n",
            "98\n",
            "fizz\n"
          ],
          "name": "stdout"
        }
      ]
    },
    {
      "cell_type": "code",
      "metadata": {
        "id": "HqfPWu3EOOcr",
        "colab_type": "code",
        "colab": {
          "base_uri": "https://localhost:8080/",
          "height": 85
        },
        "outputId": "0d9c57d1-00ab-4dcd-eec4-c15fc79ed123"
      },
      "source": [
        "#11\n",
        "h=int(input(\"enter heightr of well\"))\n",
        "u=int(input(\"enter distance it climbs for each step\"))\n",
        "d=int(input(\"enter the distance it slips\"))\n",
        "e=1+((h-u)+(u-d))//(u-d)\n",
        "print(e)"
      ],
      "execution_count": 35,
      "outputs": [
        {
          "output_type": "stream",
          "text": [
            "enter heightr of well200\n",
            "enter distance it climbs for each step50\n",
            "enter the distance it slips1\n",
            "5\n"
          ],
          "name": "stdout"
        }
      ]
    }
  ]
}