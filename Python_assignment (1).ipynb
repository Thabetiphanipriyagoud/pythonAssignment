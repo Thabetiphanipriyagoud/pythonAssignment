{
  "nbformat": 4,
  "nbformat_minor": 0,
  "metadata": {
    "colab": {
      "name": "Python assignment.ipynb",
      "provenance": [],
      "collapsed_sections": []
    },
    "kernelspec": {
      "name": "python3",
      "display_name": "Python 3"
    }
  },
  "cells": [
    {
      "cell_type": "code",
      "metadata": {
        "id": "upyfSUkQrqJ4",
        "colab_type": "code",
        "colab": {
          "base_uri": "https://localhost:8080/",
          "height": 102
        },
        "outputId": "d9616174-e6de-4a67-85dd-98be94f74cb2"
      },
      "source": [
        " \n",
        "#Question no:1\n",
        "print(0.1+0.2)\n",
        "print(\"1.8\"+\"2\")\n",
        "print(87>78)\n",
        "print((0.1+0.2)==0.3)\n",
        "print(\"predict\"\"output\",\".....\")"
      ],
      "execution_count": null,
      "outputs": [
        {
          "output_type": "stream",
          "text": [
            "0.30000000000000004\n",
            "1.82\n",
            "True\n",
            "False\n",
            "predictoutput .....\n"
          ],
          "name": "stdout"
        }
      ]
    },
    {
      "cell_type": "code",
      "metadata": {
        "id": "uuHs-uMWsmPk",
        "colab_type": "code",
        "colab": {}
      },
      "source": [
        " \n",
        "#Questionno:2\n",
        "print(\"prints\",\"multiple\",\"messages\\n\")\n",
        "print(\"concatenate\"+\"two strings\\n\")\n",
        "print(5+6+\"adds two numbers\\n\")\n",
        "#it gives a syntax error in the third print statement"
      ],
      "execution_count": null,
      "outputs": []
    },
    {
      "cell_type": "code",
      "metadata": {
        "id": "On3vDDzptZzh",
        "colab_type": "code",
        "colab": {
          "base_uri": "https://localhost:8080/",
          "height": 51
        },
        "outputId": "40da5f35-a5d1-49e3-d89c-c9053b6e9b18"
      },
      "source": [
        "#Question no:3\n",
        "print(\"ba\"+\"na\"*2)\n",
        "print(r'c:\\naresh\\raju\\abhi')"
      ],
      "execution_count": null,
      "outputs": [
        {
          "output_type": "stream",
          "text": [
            "banana\n",
            "c:\\naresh\\raju\\abhi\n"
          ],
          "name": "stdout"
        }
      ]
    },
    {
      "cell_type": "code",
      "metadata": {
        "id": "KmxWnrSftx6Y",
        "colab_type": "code",
        "colab": {
          "base_uri": "https://localhost:8080/",
          "height": 51
        },
        "outputId": "333280e9-33e3-46f9-d5c4-11874ad25d64"
      },
      "source": [
        "#Question no:4\n",
        "str='welcome to python traing program'\n",
        "print(str[0:32:4])\n",
        "tr='A series of characters designated as one object known as a string'\n",
        "tr[2:19:5]"
      ],
      "execution_count": null,
      "outputs": [
        {
          "output_type": "stream",
          "text": [
            "wotyna g\n"
          ],
          "name": "stdout"
        },
        {
          "output_type": "execute_result",
          "data": {
            "text/plain": [
              "'sscc'"
            ]
          },
          "metadata": {
            "tags": []
          },
          "execution_count": 20
        }
      ]
    },
    {
      "cell_type": "code",
      "metadata": {
        "id": "CBmYx-YL018L",
        "colab_type": "code",
        "colab": {
          "base_uri": "https://localhost:8080/",
          "height": 68
        },
        "outputId": "c0766139-ba98-4fb9-fcfd-265d123f12d1"
      },
      "source": [
        "#Question no:5\n",
        "print('A series of characters designed as one object known as a string'[::1][4::3])\n",
        "print(\"----------\")\n",
        "print('welcome to python traing program'[3:10][::-1])"
      ],
      "execution_count": null,
      "outputs": [
        {
          "output_type": "stream",
          "text": [
            "rsfhae sn  ebckwaatn\n",
            "----------\n",
            "ot emoc\n"
          ],
          "name": "stdout"
        }
      ]
    },
    {
      "cell_type": "code",
      "metadata": {
        "id": "0R9QVfZ55yts",
        "colab_type": "code",
        "colab": {
          "base_uri": "https://localhost:8080/",
          "height": 51
        },
        "outputId": "7e1d58f6-36ca-48a4-fd55-e88d0be072d8"
      },
      "source": [
        "#Question no:6a\n",
        "str1=True\n",
        "x=5>3\n",
        "print(str1==x)\n",
        "y=5>8\n",
        "print(str1==y)"
      ],
      "execution_count": null,
      "outputs": [
        {
          "output_type": "stream",
          "text": [
            "True\n",
            "False\n"
          ],
          "name": "stdout"
        }
      ]
    },
    {
      "cell_type": "code",
      "metadata": {
        "id": "AfrSgnLg6KX3",
        "colab_type": "code",
        "colab": {
          "base_uri": "https://localhost:8080/",
          "height": 34
        },
        "outputId": "49e79a71-f847-439a-eb58-a9fa6b420331"
      },
      "source": [
        "#Question no:6b\n",
        "num=7\n",
        "Name=\"Michael Jackson\"\n",
        "sear_num=Name.find('el')\n",
        "print(num>sear_num)"
      ],
      "execution_count": null,
      "outputs": [
        {
          "output_type": "stream",
          "text": [
            "True\n"
          ],
          "name": "stdout"
        }
      ]
    },
    {
      "cell_type": "code",
      "metadata": {
        "id": "1vU2zg_v6kpa",
        "colab_type": "code",
        "colab": {
          "base_uri": "https://localhost:8080/",
          "height": 34
        },
        "outputId": "7394c2b4-1ec6-44f2-fe13-fb0da2227abf"
      },
      "source": [
        "#Question no:7\n",
        "p_phrase=\"was it a car or a cat I saw\".upper()\n",
        "p_phrase[::-1]"
      ],
      "execution_count": null,
      "outputs": [
        {
          "output_type": "execute_result",
          "data": {
            "text/plain": [
              "'WAS I TAC A RO RAC A TI SAW'"
            ]
          },
          "metadata": {
            "tags": []
          },
          "execution_count": 24
        }
      ]
    },
    {
      "cell_type": "code",
      "metadata": {
        "id": "vVIhwGI-9rJq",
        "colab_type": "code",
        "colab": {
          "base_uri": "https://localhost:8080/",
          "height": 34
        },
        "outputId": "a875d7c4-846a-4f7e-9b0e-438b880258e2"
      },
      "source": [
        "#Question no:8\n",
        "a='1934567'\n",
        "a[1:7:2]"
      ],
      "execution_count": null,
      "outputs": [
        {
          "output_type": "execute_result",
          "data": {
            "text/plain": [
              "'946'"
            ]
          },
          "metadata": {
            "tags": []
          },
          "execution_count": 25
        }
      ]
    },
    {
      "cell_type": "code",
      "metadata": {
        "id": "U70QgF89-ESS",
        "colab_type": "code",
        "colab": {
          "base_uri": "https://localhost:8080/",
          "height": 34
        },
        "outputId": "fdc6e1a9-687d-43c9-eded-14737d287ab2"
      },
      "source": [
        "#Question no:9\n",
        "fake_phrase=\"Fake news has a knack for spreding like wildfire\".upper()\n",
        "out=fake_phrase[-9:14:-1]\n",
        "out.split()"
      ],
      "execution_count": null,
      "outputs": [
        {
          "output_type": "execute_result",
          "data": {
            "text/plain": [
              "['EKIL', 'GNIDERPS', 'ROF', 'KCANK']"
            ]
          },
          "metadata": {
            "tags": []
          },
          "execution_count": 26
        }
      ]
    },
    {
      "cell_type": "code",
      "metadata": {
        "id": "L1Tap2Yb-m2t",
        "colab_type": "code",
        "colab": {
          "base_uri": "https://localhost:8080/",
          "height": 54
        },
        "outputId": "9297af5e-b2cd-4673-dbc0-2145e1b5e38c"
      },
      "source": [
        " \n",
        "#Question no:10\n",
        "msg1=\"facebook already uses AI to filter for spreading like wildfire\".split()\n",
        "out=msg1\n",
        "print(out)"
      ],
      "execution_count": null,
      "outputs": [
        {
          "output_type": "stream",
          "text": [
            "['facebook', 'already', 'uses', 'AI', 'to', 'filter', 'for', 'spreading', 'like', 'wildfire']\n"
          ],
          "name": "stdout"
        }
      ]
    },
    {
      "cell_type": "code",
      "metadata": {
        "id": "q4huc_i-_L5A",
        "colab_type": "code",
        "colab": {
          "base_uri": "https://localhost:8080/",
          "height": 34
        },
        "outputId": "51e37a8e-3457-4fa4-8221-e19c131630b5"
      },
      "source": [
        "#Question no:11\n",
        "msg2=\"welcome to sr engineering college\"\n",
        "x=msg2.count('o')\n",
        "y=msg2.count('r')\n",
        "msg2[y**x:(x**y+x+y):][::-1]\n",
        "#x=3,y=2,y**x=2**3=8,x**y+x+y=3**2+3+2=14 msg2[8:14:]\n",
        "#We will get 'to sr'\n",
        "#msg2[8:14:][::-1] we get 'rs ot'"
      ],
      "execution_count": null,
      "outputs": [
        {
          "output_type": "execute_result",
          "data": {
            "text/plain": [
              "' rs ot'"
            ]
          },
          "metadata": {
            "tags": []
          },
          "execution_count": 45
        }
      ]
    },
    {
      "cell_type": "code",
      "metadata": {
        "id": "ZQNxDqZrAubQ",
        "colab_type": "code",
        "colab": {
          "base_uri": "https://localhost:8080/",
          "height": 34
        },
        "outputId": "cb691fd9-84c0-4128-d79d-e7ee47a25f0b"
      },
      "source": [
        "#Question no:12a\n",
        "num1,num2=\"94\",\"30\"\n",
        "data=\"As per census 2011,gender ratio of india is 943 females per 1000 males\"\n",
        "num1+num2[0] in data"
      ],
      "execution_count": null,
      "outputs": [
        {
          "output_type": "execute_result",
          "data": {
            "text/plain": [
              "True"
            ]
          },
          "metadata": {
            "tags": []
          },
          "execution_count": 29
        }
      ]
    },
    {
      "cell_type": "code",
      "metadata": {
        "id": "BRRmAJeYBTkT",
        "colab_type": "code",
        "colab": {
          "base_uri": "https://localhost:8080/",
          "height": 71
        },
        "outputId": "ba2322e1-5cec-4d99-82ec-32b7f30bcf46"
      },
      "source": [
        "#Question no:12b\n",
        "print(data[:45],print(int(num1)+int(num2)))"
      ],
      "execution_count": null,
      "outputs": [
        {
          "output_type": "stream",
          "text": [
            "124\n",
            "As per census 2011,gender ratio of india is 9 None\n"
          ],
          "name": "stdout"
        }
      ]
    },
    {
      "cell_type": "code",
      "metadata": {
        "id": "eG3Dg1AXBw7P",
        "colab_type": "code",
        "colab": {
          "base_uri": "https://localhost:8080/",
          "height": 85
        },
        "outputId": "2f000425-837e-47f0-dd78-e87e150e51b4"
      },
      "source": [
        "#Question no:13\n",
        "m=int(input(\"enter amount of water in kg\"))\n",
        "b=int(input(\"enter initial temperature\"))\n",
        "c=int(input(\"enter final temperature\"))\n",
        "Q=m*(c-b)*4184\n",
        "print(Q)"
      ],
      "execution_count": null,
      "outputs": [
        {
          "output_type": "stream",
          "text": [
            "enter amount of water in kg1\n",
            "enter initial temperature1\n",
            "enter final temperature2\n",
            "4184\n"
          ],
          "name": "stdout"
        }
      ]
    },
    {
      "cell_type": "code",
      "metadata": {
        "id": "s1IRiN_wHcRx",
        "colab_type": "code",
        "colab": {
          "base_uri": "https://localhost:8080/",
          "height": 51
        },
        "outputId": "ffc2e820-a7d5-47a2-9b5e-8356bdf1f762"
      },
      "source": [
        "#Question no:14\n",
        "x=int(input(\"enter x\"))\n",
        "y=2*x;\n",
        "z=('z'*x)+('o'*y)\n",
        "z"
      ],
      "execution_count": null,
      "outputs": [
        {
          "output_type": "stream",
          "text": [
            "enter x5\n"
          ],
          "name": "stdout"
        },
        {
          "output_type": "execute_result",
          "data": {
            "text/plain": [
              "'zzzzzoooooooooo'"
            ]
          },
          "metadata": {
            "tags": []
          },
          "execution_count": 31
        }
      ]
    },
    {
      "cell_type": "code",
      "metadata": {
        "id": "Yqw4I5KfB8NV",
        "colab_type": "code",
        "colab": {
          "base_uri": "https://localhost:8080/",
          "height": 102
        },
        "outputId": "6d367bb9-246f-4d6b-f787-ddb2445cd539"
      },
      "source": [
        "#Question no:15\n",
        "x=int(input(\"enter x\"))\n",
        "y=int(input(\"enter y\"))\n",
        "pow=x**y\n",
        "d=x*y\n",
        "div=pow//d\n",
        "c=x+y\n",
        "out=div^c\n",
        "print(pow)\n",
        "print(div)\n",
        "print(out)"
      ],
      "execution_count": null,
      "outputs": [
        {
          "output_type": "stream",
          "text": [
            "enter x5\n",
            "enter y6\n",
            "15625\n",
            "520\n",
            "515\n"
          ],
          "name": "stdout"
        }
      ]
    }
  ]
}