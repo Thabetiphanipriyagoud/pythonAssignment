{
  "nbformat": 4,
  "nbformat_minor": 0,
  "metadata": {
    "colab": {
      "name": "assignment3.ipynb",
      "provenance": []
    },
    "kernelspec": {
      "name": "python3",
      "display_name": "Python 3"
    }
  },
  "cells": [
    {
      "cell_type": "code",
      "metadata": {
        "id": "m_HZWMVO0qpd",
        "colab_type": "code",
        "colab": {
          "base_uri": "https://localhost:8080/",
          "height": 85
        },
        "outputId": "73a3f280-404a-4eab-eac8-d371eb1ab943"
      },
      "source": [
        "#1\n",
        "a=float(input(\"enter the first side of triangle\"))\n",
        "b=float(input(\"enter the second side of triangle\"))\n",
        "c=float(input(\"enter the third side of triangle\"))\n",
        "s=(a+b+c)/2\n",
        "A=(s*(s-a)*(s-b)*(s-c))**0.5\n",
        "print(\"the area of the triangle is:\",A)"
      ],
      "execution_count": null,
      "outputs": [
        {
          "output_type": "stream",
          "text": [
            "enter the first side of triangle6\n",
            "enter the second side of triangle7\n",
            "enter the third side of triangle8\n",
            "the area of the triangle is: 20.33316256758894\n"
          ],
          "name": "stdout"
        }
      ]
    },
    {
      "cell_type": "code",
      "metadata": {
        "id": "ahxo34rl1Fvk",
        "colab_type": "code",
        "colab": {
          "base_uri": "https://localhost:8080/",
          "height": 51
        },
        "outputId": "3606af7a-eb8a-4a1c-9288-53ce7535d97f"
      },
      "source": [
        "#2\n",
        "str=input(\"enter astring\")\n",
        "r=str[::-1]\n",
        "if str==r:\n",
        "  print(\"palendrome\")\n",
        "else:\n",
        "  print(\"not a palendrome\")"
      ],
      "execution_count": null,
      "outputs": [
        {
          "output_type": "stream",
          "text": [
            "enter astring111\n",
            "palendrome\n"
          ],
          "name": "stdout"
        }
      ]
    },
    {
      "cell_type": "code",
      "metadata": {
        "id": "2e0QgjkG1GwA",
        "colab_type": "code",
        "colab": {
          "base_uri": "https://localhost:8080/",
          "height": 51
        },
        "outputId": "481e126b-cfa5-4bbf-a5c6-156830802394"
      },
      "source": [
        "#3\n",
        "year=int(input(\"enter year\"))\n",
        "if year%4==0 and year%400==0 and year%100==0 :\n",
        "  print(\"leap year\")\n",
        "else :\n",
        "  print(\"non leap year\")"
      ],
      "execution_count": null,
      "outputs": [
        {
          "output_type": "stream",
          "text": [
            "enter year678\n",
            "non leap year\n"
          ],
          "name": "stdout"
        }
      ]
    },
    {
      "cell_type": "code",
      "metadata": {
        "id": "GKOnt8Iq1Htv",
        "colab_type": "code",
        "colab": {
          "base_uri": "https://localhost:8080/",
          "height": 51
        },
        "outputId": "be4dd1c8-1322-4649-886d-0619ad06b744"
      },
      "source": [
        "#4\n",
        "p=input(\"enter a sentence\")\n",
        "p=p.replace(\" \",\"-\")\n",
        "print(p)"
      ],
      "execution_count": null,
      "outputs": [
        {
          "output_type": "stream",
          "text": [
            "enter a sentencewe have started 2nd year classes\n",
            "we-have-started-2nd-year-classes\n"
          ],
          "name": "stdout"
        }
      ]
    },
    {
      "cell_type": "code",
      "metadata": {
        "id": "bLq-J8LE1I_x",
        "colab_type": "code",
        "colab": {
          "base_uri": "https://localhost:8080/",
          "height": 34
        },
        "outputId": "652701c0-9acd-4231-cff9-ec804051ac4c"
      },
      "source": [
        "#5\n",
        "list=\"orange\",\"red\",\"cyan\",\"green\",\"magneta\",\"pink\",\"white\"\n",
        "list=sorted(list)\n",
        "print(list)"
      ],
      "execution_count": null,
      "outputs": [
        {
          "output_type": "stream",
          "text": [
            "['cyan', 'green', 'magneta', 'orange', 'pink', 'red', 'white']\n"
          ],
          "name": "stdout"
        }
      ]
    },
    {
      "cell_type": "code",
      "metadata": {
        "id": "BtftQwtc1J65",
        "colab_type": "code",
        "colab": {
          "base_uri": "https://localhost:8080/",
          "height": 51
        },
        "outputId": "b94a99da-4b20-4df0-9f61-cc6d501f9d55"
      },
      "source": [
        "#6\n",
        "s=int(input(\"enter your salary\"))\n",
        "if s<=250000:\n",
        "  tax=0\n",
        "elif s>=250001 and s<=500000:\n",
        "  tax=s*5/100\n",
        "elif s>=500001 and s<=750000:\n",
        "  tax=s*10/100\n",
        "elif s>=750001 and s<=1000000:\n",
        "  tax=s*15/100\n",
        "elif s>=1000001 and s<=1250000:\n",
        "  tax=s*20/100\n",
        "elif s>=1250001 and s<=1500000:\n",
        "  tax=s*25/100\n",
        "elif s>=1500000:\n",
        "  tax=s*30/100\n",
        "print(\"the tax to be paid is: \",tax)"
      ],
      "execution_count": null,
      "outputs": [
        {
          "output_type": "stream",
          "text": [
            "enter your salary600000\n",
            "the tax to be paid is:  60000.0\n"
          ],
          "name": "stdout"
        }
      ]
    },
    {
      "cell_type": "code",
      "metadata": {
        "id": "DzwAZhYl1LNV",
        "colab_type": "code",
        "colab": {
          "base_uri": "https://localhost:8080/",
          "height": 85
        },
        "outputId": "85de30d8-b11d-4209-c3d7-447dacc0112f"
      },
      "source": [
        "#7\n",
        "a=input(\"enter first integer\")\n",
        "b=input(\"enter second integer\")\n",
        "c=input(\"enter third integer\")\n",
        "print(a+b+c)"
      ],
      "execution_count": null,
      "outputs": [
        {
          "output_type": "stream",
          "text": [
            "enter first integer11\n",
            "enter second integer30\n",
            "enter third integer0\n",
            "11300\n"
          ],
          "name": "stdout"
        }
      ]
    },
    {
      "cell_type": "code",
      "metadata": {
        "id": "NEbD9pfa1MPo",
        "colab_type": "code",
        "colab": {
          "base_uri": "https://localhost:8080/",
          "height": 102
        },
        "outputId": "26663330-0f5c-4382-d726-c333f2a3f9d8"
      },
      "source": [
        "#8\n",
        "d=int(input(\"enter the day\"))\n",
        "h=int(input(\"enter the hours\"))\n",
        "m=int(input(\"minutes\"))\n",
        "s=int(input(\"seconds\"))\n",
        "scnd=d*24*60*60+h*60*60+m*60+s\n",
        "print(scnd)"
      ],
      "execution_count": null,
      "outputs": [
        {
          "output_type": "stream",
          "text": [
            "enter the day1\n",
            "enter the hours1\n",
            "minutes1\n",
            "seconds1\n",
            "90061\n"
          ],
          "name": "stdout"
        }
      ]
    },
    {
      "cell_type": "code",
      "metadata": {
        "id": "I3MWDtfw1NI2",
        "colab_type": "code",
        "colab": {
          "base_uri": "https://localhost:8080/",
          "height": 85
        },
        "outputId": "5b33af75-c338-49d3-f3d0-881eeb72d36d"
      },
      "source": [
        "#9\n",
        "p=int(input(\"enter first integer\"))\n",
        "q=int(input(\"enter second integer\"))\n",
        "s=int(input(\"enter third integer\"))\n",
        "a=max(p,q,s)\n",
        "b=min(p,q,s)\n",
        "c=p+q+s-a-b\n",
        "print(a,c,b)"
      ],
      "execution_count": null,
      "outputs": [
        {
          "output_type": "stream",
          "text": [
            "enter first integer23\n",
            "enter second integer21\n",
            "enter third integer3\n",
            "23 21 3\n"
          ],
          "name": "stdout"
        }
      ]
    },
    {
      "cell_type": "code",
      "metadata": {
        "id": "HDkrZyG81OUg",
        "colab_type": "code",
        "colab": {
          "base_uri": "https://localhost:8080/",
          "height": 85
        },
        "outputId": "3c887278-23d8-4cfc-cea1-07844760b7f7"
      },
      "source": [
        "#10\n",
        "a=int(input(\"enter year: \"))\n",
        "b=int(input(\"enter month: \"))\n",
        "c=int(input(\"enter date: \"))\n",
        "if a%4==0:\n",
        "  leap=True\n",
        "else:\n",
        "  leap==False\n",
        "if b==2:\n",
        "  if leap:\n",
        "    len=29\n",
        "  else:\n",
        "    len=28\n",
        "elif b in(4,6,9,11):\n",
        "  len=30\n",
        "else:\n",
        "  len=31\n",
        "if c<len:\n",
        "  c=c+1\n",
        "else:\n",
        "  c=1\n",
        "  y+=1\n",
        "print(f\"sucessor date is [yyyy-mm-dd] : {a}-{b}-{c}\")\n",
        "\n",
        "\n",
        "  "
      ],
      "execution_count": null,
      "outputs": [
        {
          "output_type": "stream",
          "text": [
            "enter year: 2020\n",
            "enter month: 4\n",
            "enter date: 20\n",
            "sucessor date is [yyyy-mm-dd] : 2020-4-21\n"
          ],
          "name": "stdout"
        }
      ]
    },
    {
      "cell_type": "code",
      "metadata": {
        "id": "mg8BezqK1PYG",
        "colab_type": "code",
        "colab": {
          "base_uri": "https://localhost:8080/",
          "height": 34
        },
        "outputId": "4ee638fa-9988-46e2-d0a9-79067d09a097"
      },
      "source": [
        "#11\n",
        "def pro_list(a1,a2,a3,a4,a5,a6,a7,a8):\n",
        "  return a1*a2*a3*a4*a5*a6*a7*a8\n",
        "pro_list(45,3,2,89,72,1,10,7)"
      ],
      "execution_count": null,
      "outputs": [
        {
          "output_type": "execute_result",
          "data": {
            "text/plain": [
              "121111200"
            ]
          },
          "metadata": {
            "tags": []
          },
          "execution_count": 8
        }
      ]
    },
    {
      "cell_type": "code",
      "metadata": {
        "id": "QhpND7eg1Qrf",
        "colab_type": "code",
        "colab": {
          "base_uri": "https://localhost:8080/",
          "height": 34
        },
        "outputId": "357a6cf7-7ef8-4880-c5b3-1a702d0869d9"
      },
      "source": [
        "#12\n",
        "def add(x1,x2,x3,x4,x5,x6):\n",
        "  return(x1+x2,x2+x3,x3+x4,x4+x5,x5+x6)\n",
        "add(5,6,8,34,89,1)"
      ],
      "execution_count": null,
      "outputs": [
        {
          "output_type": "execute_result",
          "data": {
            "text/plain": [
              "(11, 14, 42, 123, 90)"
            ]
          },
          "metadata": {
            "tags": []
          },
          "execution_count": 10
        }
      ]
    },
    {
      "cell_type": "code",
      "metadata": {
        "id": "wHsCvcW61R5W",
        "colab_type": "code",
        "colab": {
          "base_uri": "https://localhost:8080/",
          "height": 34
        },
        "outputId": "fa3a2986-550b-4fac-90dd-b223cd5010b1"
      },
      "source": [
        "#13\n",
        "def num(x1,x2,x3,x4,x5,x6):\n",
        "  return(x1,x2*x1,x1*x2*x3,x1*x2*x3*x4,x1*x2*x3*x4*x5,x1*x2*x3*x4*x5*x6)\n",
        "num(5,6,8,3,9,1)"
      ],
      "execution_count": null,
      "outputs": [
        {
          "output_type": "execute_result",
          "data": {
            "text/plain": [
              "(5, 30, 240, 720, 6480, 6480)"
            ]
          },
          "metadata": {
            "tags": []
          },
          "execution_count": 12
        }
      ]
    },
    {
      "cell_type": "code",
      "metadata": {
        "id": "BG8NTxAY1TkO",
        "colab_type": "code",
        "colab": {
          "base_uri": "https://localhost:8080/",
          "height": 51
        },
        "outputId": "3b4006f3-546b-4487-d03a-9c6c90151a45"
      },
      "source": [
        "#14\n",
        "a=int(input(\"enter the number\"))\n",
        "list=[]\n",
        "b=0\n",
        "while a>0:\n",
        "  x=a%10\n",
        "  a=a//10\n",
        "  b=b*10+x\n",
        "while b>0:\n",
        "  x=b%10\n",
        "  b=b//10\n",
        "  list.append(x)\n",
        "print(list)"
      ],
      "execution_count": null,
      "outputs": [
        {
          "output_type": "stream",
          "text": [
            "enter the number213543\n",
            "[2, 1, 3, 5, 4, 3]\n"
          ],
          "name": "stdout"
        }
      ]
    },
    {
      "cell_type": "code",
      "metadata": {
        "id": "R3UaR4ep1Wxh",
        "colab_type": "code",
        "colab": {
          "base_uri": "https://localhost:8080/",
          "height": 68
        },
        "outputId": "4792c0b7-ecb2-4b37-e8c1-cd5806b0281d"
      },
      "source": [
        "#16\n",
        "p=input(\"enter a binary number of length 10\")\n",
        "q=input(\"enter binary number of length 5\")\n",
        "if p[:] in q[:]:\n",
        "  print(1)\n",
        "else:\n",
        "  print(0)"
      ],
      "execution_count": null,
      "outputs": [
        {
          "output_type": "stream",
          "text": [
            "enter a binary number of length 101010101010\n",
            "enter binary number of length 510101\n",
            "0\n"
          ],
          "name": "stdout"
        }
      ]
    }
  ]
}